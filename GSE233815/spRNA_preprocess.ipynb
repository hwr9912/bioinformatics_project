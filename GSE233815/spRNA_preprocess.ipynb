{
 "cells": [
  {
   "cell_type": "markdown",
   "id": "7892f6e7",
   "metadata": {},
   "source": [
    "# GSE23385空转数据\n",
    "|Sample ID|实验分组|分组代号|\n",
    "|---------|-------|------|\n",
    "|-|sham|sham|\n",
    "|-|pMCAO 第 1 天|D1|\n",
    "|-|pMCAO 第 3 天|D3|\n",
    "|-|pMCAO 第 7 天|D7|\n"
   ]
  },
  {
   "cell_type": "markdown",
   "id": "5bf9bd33",
   "metadata": {},
   "source": [
    "## 数据读取与转换"
   ]
  },
  {
   "cell_type": "code",
   "execution_count": 11,
   "id": "a8b9fc68",
   "metadata": {},
   "outputs": [
    {
     "name": "stdout",
     "output_type": "stream",
     "text": [
      "/Volumes/MacPassport/project/bioinfo/GSE233815\n"
     ]
    },
    {
     "data": {
      "application/vnd.microsoft.datawrangler.viewer.v0+json": {
       "columns": [
        {
         "name": "index",
         "rawType": "int64",
         "type": "integer"
        },
        {
         "name": "id",
         "rawType": "object",
         "type": "string"
        },
        {
         "name": "species",
         "rawType": "object",
         "type": "string"
        },
        {
         "name": "group",
         "rawType": "object",
         "type": "string"
        },
        {
         "name": "prefix",
         "rawType": "object",
         "type": "string"
        }
       ],
       "ref": "419b1096-0d5e-4586-8b13-928c1383abbe",
       "rows": [
        [
         "0",
         "GSM7437217",
         "wt",
         "sham",
         "sham_"
        ],
        [
         "1",
         "GSM7437218",
         "wt",
         "mcao_d1",
         "d1_"
        ],
        [
         "2",
         "GSM7437219",
         "wt",
         "mcao_d3",
         "d3_"
        ],
        [
         "3",
         "GSM7437220",
         "wt",
         "mcao_d7",
         "d7_"
        ]
       ],
       "shape": {
        "columns": 4,
        "rows": 4
       }
      },
      "text/html": [
       "<div>\n",
       "<style scoped>\n",
       "    .dataframe tbody tr th:only-of-type {\n",
       "        vertical-align: middle;\n",
       "    }\n",
       "\n",
       "    .dataframe tbody tr th {\n",
       "        vertical-align: top;\n",
       "    }\n",
       "\n",
       "    .dataframe thead th {\n",
       "        text-align: right;\n",
       "    }\n",
       "</style>\n",
       "<table border=\"1\" class=\"dataframe\">\n",
       "  <thead>\n",
       "    <tr style=\"text-align: right;\">\n",
       "      <th></th>\n",
       "      <th>id</th>\n",
       "      <th>species</th>\n",
       "      <th>group</th>\n",
       "      <th>prefix</th>\n",
       "    </tr>\n",
       "  </thead>\n",
       "  <tbody>\n",
       "    <tr>\n",
       "      <th>0</th>\n",
       "      <td>GSM7437217</td>\n",
       "      <td>wt</td>\n",
       "      <td>sham</td>\n",
       "      <td>sham_</td>\n",
       "    </tr>\n",
       "    <tr>\n",
       "      <th>1</th>\n",
       "      <td>GSM7437218</td>\n",
       "      <td>wt</td>\n",
       "      <td>mcao_d1</td>\n",
       "      <td>d1_</td>\n",
       "    </tr>\n",
       "    <tr>\n",
       "      <th>2</th>\n",
       "      <td>GSM7437219</td>\n",
       "      <td>wt</td>\n",
       "      <td>mcao_d3</td>\n",
       "      <td>d3_</td>\n",
       "    </tr>\n",
       "    <tr>\n",
       "      <th>3</th>\n",
       "      <td>GSM7437220</td>\n",
       "      <td>wt</td>\n",
       "      <td>mcao_d7</td>\n",
       "      <td>d7_</td>\n",
       "    </tr>\n",
       "  </tbody>\n",
       "</table>\n",
       "</div>"
      ],
      "text/plain": [
       "           id species    group prefix\n",
       "0  GSM7437217      wt     sham  sham_\n",
       "1  GSM7437218      wt  mcao_d1    d1_\n",
       "2  GSM7437219      wt  mcao_d3    d3_\n",
       "3  GSM7437220      wt  mcao_d7    d7_"
      ]
     },
     "execution_count": 11,
     "metadata": {},
     "output_type": "execute_result"
    }
   ],
   "source": [
    "%reset -f\n",
    "import pandas as pd\n",
    "import numpy as np\n",
    "import anndata as ad\n",
    "import scipy.sparse as sp\n",
    "from os.path import join\n",
    "import scanpy as sc\n",
    "import yaml\n",
    "import os\n",
    "\n",
    "print(os.getcwd())\n",
    "sc.settings.verbosity = 3\n",
    "with open(\"config.yaml\", \"r\") as f:\n",
    "    config = yaml.safe_load(f)\n",
    "\n",
    "def csv2hdf(folder = \"\", prefix = \"\", output = \"output.h5ad\"):\n",
    "    # 1. 读取数据\n",
    "    # 假设你在 R 中导出的文件都在当前工作目录\n",
    "    expr_data_df = pd.read_csv(join(folder, f\"{prefix}expression_data.csv\"), index_col=0) # index_col=0 确保第一列是索引\n",
    "    cell_meta_df = pd.read_csv(join(folder, f\"{prefix}cell_metadata.csv\"), index_col=0)\n",
    "    gene_meta_df = pd.read_csv(join(folder, f\"{prefix}gene_metadata.csv\"), index_col=0) # 如果有的话\n",
    "    # 确保数据的行和列与 AnnData 的要求一致\n",
    "    # AnnData 的 X 通常是 (n_cells, n_genes)\n",
    "    # Seurat 的表达矩阵通常是 (n_genes, n_cells)，所以需要转置\n",
    "    # 原始数据是稀疏的，可以转换为稀疏矩阵以节省内存\n",
    "    X = sp.csr_matrix(expr_data_df.T)\n",
    "\n",
    "    # 2. 构建 AnnData 对象\n",
    "    # obs 是细胞元数据 (index 必须与 X 的行名匹配)\n",
    "    # var 是基因元数据 (index 必须与 X 的列名匹配)\n",
    "    adata = ad.AnnData(\n",
    "        X=X,\n",
    "        obs=cell_meta_df,\n",
    "        var=gene_meta_df # 如果有的话\n",
    "    )\n",
    "\n",
    "    # 3. 添加降维嵌入\n",
    "    # adata.obsm['X_pca'] = pca_coords_df.loc[adata.obs_names].values # 确保顺序匹配\n",
    "    # adata.obsm['X_umap'] = umap_coords_df.loc[adata.obs_names].values\n",
    "\n",
    "    # 4. 添加聚类信息到 obs\n",
    "    # adata.obs['seurat_clusters'] = clusters_df.loc[adata.obs_names, 'clusters']\n",
    "\n",
    "    # 5. 保存为 .h5ad 文件\n",
    "    adata.write(output)\n",
    "\n",
    "    return adata\n",
    " \n",
    "targets = pd.DataFrame({\n",
    "    \"id\": [\"GSM7437217\", \"GSM7437218\", \"GSM7437219\", \"GSM7437220\"],\n",
    "    \"species\": [\"wt\", \"wt\", \"wt\", \"wt\"],\n",
    "    \"group\": [\"sham\", \"mcao_d1\", \"mcao_d3\", \"mcao_d7\"],\n",
    "    \"prefix\": [\"sham_\", \"d1_\", \"d3_\", \"d7_\"]\n",
    "})\n",
    "targets.to_csv(\"data/spatial_targets.csv\", index=None)\n",
    "targets"
   ]
  },
  {
   "cell_type": "code",
   "execution_count": 13,
   "id": "58d50167",
   "metadata": {},
   "outputs": [
    {
     "name": "stderr",
     "output_type": "stream",
     "text": [
      "/opt/anaconda3/envs/bioinfo/lib/python3.12/site-packages/anndata/_core/anndata.py:1756: UserWarning: Observation names are not unique. To make them unique, call `.obs_names_make_unique`.\n",
      "  utils.warn_names_duplicates(\"obs\")\n",
      "/opt/anaconda3/envs/bioinfo/lib/python3.12/site-packages/anndata/_core/anndata.py:1756: UserWarning: Observation names are not unique. To make them unique, call `.obs_names_make_unique`.\n",
      "  utils.warn_names_duplicates(\"obs\")\n"
     ]
    },
    {
     "data": {
      "text/plain": [
       "AnnData object with n_obs × n_vars = 10173 × 32285\n",
       "    obs: 'location', 'nCount_Spatial', 'nFeature_Spatial', 'sample', 'condition'"
      ]
     },
     "execution_count": 13,
     "metadata": {},
     "output_type": "execute_result"
    }
   ],
   "source": [
    "adatas={}\n",
    "\n",
    "for _,row in targets.iterrows():\n",
    "    sample_adata = csv2hdf(folder=\"data/spatial/GSE233813_csv\", prefix=row[\"prefix\"])\n",
    "    sample_adata.obs.columns = [\"location\", 'nCount_Spatial', 'nFeature_Spatial', 'sample', 'condition']\n",
    "    adatas[row[\"id\"]] = sample_adata\n",
    "\n",
    "# 合并所有样本\n",
    "adata_raw = ad.concat(adatas=adatas, label=\"sample\")\n",
    "adata_raw.raw = adata_raw.copy()\n",
    "adata_raw.write(f\"data/{config['project_code']}_sp_raw.h5ad\")\n",
    "adata_raw"
   ]
  }
 ],
 "metadata": {
  "kernelspec": {
   "display_name": "Python (bioinfo)",
   "language": "python",
   "name": "bioinfo"
  },
  "language_info": {
   "codemirror_mode": {
    "name": "ipython",
    "version": 3
   },
   "file_extension": ".py",
   "mimetype": "text/x-python",
   "name": "python",
   "nbconvert_exporter": "python",
   "pygments_lexer": "ipython3",
   "version": "3.12.0"
  }
 },
 "nbformat": 4,
 "nbformat_minor": 5
}
