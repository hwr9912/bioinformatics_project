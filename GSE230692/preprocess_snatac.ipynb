{
 "cells": [
  {
   "cell_type": "markdown",
   "id": "8ac0a728",
   "metadata": {},
   "source": [
    "# GSE230692\n",
    "1. 标题\t(Innate immune memory after brain injury drives inflammatory cardiac dysfunction 脑损伤后的先天性免疫记忆导致炎症性心脏功能障碍 [snATAC-seq])[https://www.ncbi.nlm.nih.gov/geo/query/acc.cgi?acc=GSE230692]\n",
    "2. 种属: Mus musculus\n",
    "3. 实验类型\tGenome binding/occupancy profiling by high throughput sequencing 高通量测序进行基因组结合/占据分析\n",
    "4. Summary: 除了大脑局部的炎症免疫反应外，中风还会改变全身免疫。在过去几十年里，人们已经详细描述了在中风急性期和亚急性期，全身对中风的免疫反应。然而，中风后长期全身免疫学的后果仍然难以捉摸。因此，需要更好地理解中风对全身免疫的这些长期慢性影响及其对远处器官功能和继发性合并症的影响。在这里，我们使用单细胞 RNA 测序（scRNA-Seq）来研究中风对远离大脑的各种外围器官中驻留髓系免疫细胞的转录组特征的慢性影响，包括肺、心脏、肝脏、脾脏、血液和骨髓。我们观察到，在外围器官和骨髓中的单核细胞在中风后长期呈现促炎表型。此外，骨髓中单核细胞的促炎表型可以通过骨髓移植传递给未受感染的健康受者，这表明中风后可能存在潜在的表观遗传印记的慢性先天性免疫记忆。 确实，通过单核 ATAC 测序，我们发现中风后骨髓免疫记忆可能是由 IL-1β驱动的机制介导的，并且阻断中风后循环中 IL-1β的增加可以防止骨髓免疫记忆。\n",
    "5. 整体设计: 在慢性中风后和对照条件下对骨髓来源的骨髓细胞进行的单核 ATAC 实验。此外，还包括一组来自接受 IL-1β中和抗体治疗的中风小鼠的骨髓细胞（中风治疗组）。\n",
    "6. 引用: (Simats A, Zhang S, Messerer D, Chong F et al. Innate immune memory after brain injury drives inflammatory cardiac dysfunction. Cell 2024 Aug 22;187(17):4637-4655.e26. PMID: 39043180)[https://pubmed.ncbi.nlm.nih.gov/39043180/] \t\n",
    "7. 平台: NextSeq 2000 (Mus musculus)\n",
    "8. 原始数据链接: (PRJNA962132)[https://www.ncbi.nlm.nih.gov/Traces/study/?acc=PRJNA962132]\n",
    "\n",
    "|ID|样本来源|实验分组|重复代号|\n",
    "|--|-------|------|-------|\n",
    "|GSM7232709|Bone marrow|Control\", \"\n",
    "|GSM7232710|Bone marrow|Stroke\", \"\n",
    "|GSM7232711|Bone marrow|Stroke\", \"\n",
    "|GSM7232712|Bone marrow|Stroke-treated\", \"\n",
    "|GSM7232713|Bone marrow|Control\", \"\n",
    "|GSM7232714|Bone marrow|Stroke\", \"\n",
    "|GSM7232715|Bone marrow|Stroke-treated\", \"\n",
    "|GSM7232716|Bone marrow|Stroke-treated|rep3|"
   ]
  },
  {
   "cell_type": "markdown",
   "id": "85136d24",
   "metadata": {},
   "source": [
    "## 读取原始数据"
   ]
  },
  {
   "cell_type": "code",
   "execution_count": 2,
   "id": "9a16f6c5",
   "metadata": {},
   "outputs": [
    {
     "name": "stdout",
     "output_type": "stream",
     "text": [
      "/Volumes/MacPassport/project/bioinfo/GSE230692\n"
     ]
    },
    {
     "data": {
      "application/vnd.microsoft.datawrangler.viewer.v0+json": {
       "columns": [
        {
         "name": "index",
         "rawType": "int64",
         "type": "integer"
        },
        {
         "name": "id",
         "rawType": "object",
         "type": "string"
        },
        {
         "name": "species",
         "rawType": "object",
         "type": "string"
        },
        {
         "name": "group",
         "rawType": "object",
         "type": "string"
        }
       ],
       "ref": "8753e543-784d-4161-af23-ca9e8680ecf4",
       "rows": [
        [
         "0",
         "GSM7232709",
         "mmu",
         "Control"
        ],
        [
         "1",
         "GSM7232710",
         "mmu",
         "Stroke"
        ],
        [
         "2",
         "GSM7232711",
         "mmu",
         "Stroke"
        ],
        [
         "3",
         "GSM7232712",
         "mmu",
         "Stroke-treated"
        ],
        [
         "4",
         "GSM7232713",
         "mmu",
         "Control"
        ],
        [
         "5",
         "GSM7232714",
         "mmu",
         "Stroke"
        ],
        [
         "6",
         "GSM7232715",
         "mmu",
         "Stroke-treated"
        ],
        [
         "7",
         "GSM7232716",
         "mmu",
         "Stroke-treated"
        ]
       ],
       "shape": {
        "columns": 3,
        "rows": 8
       }
      },
      "text/html": [
       "<div>\n",
       "<style scoped>\n",
       "    .dataframe tbody tr th:only-of-type {\n",
       "        vertical-align: middle;\n",
       "    }\n",
       "\n",
       "    .dataframe tbody tr th {\n",
       "        vertical-align: top;\n",
       "    }\n",
       "\n",
       "    .dataframe thead th {\n",
       "        text-align: right;\n",
       "    }\n",
       "</style>\n",
       "<table border=\"1\" class=\"dataframe\">\n",
       "  <thead>\n",
       "    <tr style=\"text-align: right;\">\n",
       "      <th></th>\n",
       "      <th>id</th>\n",
       "      <th>species</th>\n",
       "      <th>group</th>\n",
       "    </tr>\n",
       "  </thead>\n",
       "  <tbody>\n",
       "    <tr>\n",
       "      <th>0</th>\n",
       "      <td>GSM7232709</td>\n",
       "      <td>mmu</td>\n",
       "      <td>Control</td>\n",
       "    </tr>\n",
       "    <tr>\n",
       "      <th>1</th>\n",
       "      <td>GSM7232710</td>\n",
       "      <td>mmu</td>\n",
       "      <td>Stroke</td>\n",
       "    </tr>\n",
       "    <tr>\n",
       "      <th>2</th>\n",
       "      <td>GSM7232711</td>\n",
       "      <td>mmu</td>\n",
       "      <td>Stroke</td>\n",
       "    </tr>\n",
       "    <tr>\n",
       "      <th>3</th>\n",
       "      <td>GSM7232712</td>\n",
       "      <td>mmu</td>\n",
       "      <td>Stroke-treated</td>\n",
       "    </tr>\n",
       "    <tr>\n",
       "      <th>4</th>\n",
       "      <td>GSM7232713</td>\n",
       "      <td>mmu</td>\n",
       "      <td>Control</td>\n",
       "    </tr>\n",
       "    <tr>\n",
       "      <th>5</th>\n",
       "      <td>GSM7232714</td>\n",
       "      <td>mmu</td>\n",
       "      <td>Stroke</td>\n",
       "    </tr>\n",
       "    <tr>\n",
       "      <th>6</th>\n",
       "      <td>GSM7232715</td>\n",
       "      <td>mmu</td>\n",
       "      <td>Stroke-treated</td>\n",
       "    </tr>\n",
       "    <tr>\n",
       "      <th>7</th>\n",
       "      <td>GSM7232716</td>\n",
       "      <td>mmu</td>\n",
       "      <td>Stroke-treated</td>\n",
       "    </tr>\n",
       "  </tbody>\n",
       "</table>\n",
       "</div>"
      ],
      "text/plain": [
       "           id species           group\n",
       "0  GSM7232709     mmu         Control\n",
       "1  GSM7232710     mmu          Stroke\n",
       "2  GSM7232711     mmu          Stroke\n",
       "3  GSM7232712     mmu  Stroke-treated\n",
       "4  GSM7232713     mmu         Control\n",
       "5  GSM7232714     mmu          Stroke\n",
       "6  GSM7232715     mmu  Stroke-treated\n",
       "7  GSM7232716     mmu  Stroke-treated"
      ]
     },
     "execution_count": 2,
     "metadata": {},
     "output_type": "execute_result"
    }
   ],
   "source": [
    "%reset -f\n",
    "import scanpy as sc\n",
    "import anndata as ad\n",
    "import pandas as pd\n",
    "import numpy as np\n",
    "import yaml\n",
    "import os\n",
    "\n",
    "print(os.getcwd())\n",
    "sc.settings.verbosity = 3\n",
    "with open(\"config.yaml\", \"r\") as f:\n",
    "    config = yaml.safe_load(f)\n",
    "    \n",
    "targets = pd.DataFrame({\n",
    "    \"id\": [\"GSM7232709\", \"GSM7232710\", \"GSM7232711\", \"GSM7232712\", \"GSM7232713\", \"GSM7232714\", \"GSM7232715\", \"GSM7232716\"],\n",
    "    \"species\": [\"mmu\", \"mmu\", \"mmu\", \"mmu\", \"mmu\", \"mmu\", \"mmu\", \"mmu\"],\n",
    "    \"group\": [\"Control\", \"Stroke\", \"Stroke\", \"Stroke-treated\", \"Control\", \"Stroke\", \"Stroke-treated\", \"Stroke-treated\"]\n",
    "})\n",
    "targets.to_csv(\"data/targets.csv\", index=None)\n",
    "targets"
   ]
  },
  {
   "cell_type": "code",
   "execution_count": null,
   "id": "6ca3735a",
   "metadata": {},
   "outputs": [],
   "source": []
  }
 ],
 "metadata": {
  "kernelspec": {
   "display_name": "Python (bioinfo)",
   "language": "python",
   "name": "bioinfo"
  },
  "language_info": {
   "codemirror_mode": {
    "name": "ipython",
    "version": 3
   },
   "file_extension": ".py",
   "mimetype": "text/x-python",
   "name": "python",
   "nbconvert_exporter": "python",
   "pygments_lexer": "ipython3",
   "version": "3.13.2"
  }
 },
 "nbformat": 4,
 "nbformat_minor": 5
}
